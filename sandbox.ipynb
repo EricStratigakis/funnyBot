{
 "cells": [
  {
   "cell_type": "markdown",
   "metadata": {},
   "source": [
    "Decribing the procedure:\n",
    "\n",
    "1. find a data source\n",
    "2. use apis to obtain data that we want\n",
    "3. decide on an ML method\n",
    "4. format data to fit ML method\n",
    "5. buy cloud service time??\n",
    "6.\n",
    "...\n",
    "\n",
    "n. profit"
   ]
  },
  {
   "cell_type": "code",
   "execution_count": 1,
   "metadata": {},
   "outputs": [],
   "source": [
    "# data source : "
   ]
  },
  {
   "cell_type": "code",
   "execution_count": 2,
   "metadata": {},
   "outputs": [],
   "source": [
    "# 3 points, total points, total rebounds \n",
    "# 10 players:\n",
    "\n",
    "# (10, 500, 50) i.e. (num_of_seasons, num_of_players, num_of_features)\n",
    "\n",
    "# note need a convention top deal with players that are not \n",
    "\n"
   ]
  },
  {
   "cell_type": "code",
   "execution_count": null,
   "metadata": {},
   "outputs": [],
   "source": []
  }
 ],
 "metadata": {
  "kernelspec": {
   "display_name": "Python 3",
   "language": "python",
   "name": "python3"
  },
  "language_info": {
   "codemirror_mode": {
    "name": "ipython",
    "version": 3
   },
   "file_extension": ".py",
   "mimetype": "text/x-python",
   "name": "python",
   "nbconvert_exporter": "python",
   "pygments_lexer": "ipython3",
   "version": "3.8.1"
  }
 },
 "nbformat": 4,
 "nbformat_minor": 4
}
