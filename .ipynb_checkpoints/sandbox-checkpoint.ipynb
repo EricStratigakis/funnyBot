{
 "cells": [
  {
   "cell_type": "markdown",
   "metadata": {},
   "source": [
    "Decribing the procedure:\n",
    "\n",
    "1. find a data source\n",
    "2. use apis to obtain data that we want\n",
    "3. decide on an ML method\n",
    "4. format data to fit ML method\n",
    "5. buy cloud service time??\n",
    "6.\n",
    "...\n",
    "\n",
    "n. profit"
   ]
  },
  {
   "cell_type": "code",
   "execution_count": 1,
   "metadata": {},
   "outputs": [],
   "source": [
    "player_detail_active = \"https://api.sportsdata.io/v3/nba/scores/json/Players\"#/free/player-details-by-active\n"
   ]
  },
  {
   "cell_type": "code",
   "execution_count": 2,
   "metadata": {},
   "outputs": [],
   "source": [
    "import requests\n",
    "import json\n",
    "\n",
    "headers = {\n",
    "    \"Ocp-Apim-Subscription-Key\": \"dde6763b7c62427fbf71100cf230f8aa\"\n",
    "}\n",
    "\n",
    "response = requests.get(url=player_detail_active, headers=headers)\n",
    "\n",
    "player_detail_active_json = json.loads(response.text)"
   ]
  },
  {
   "cell_type": "code",
   "execution_count": 3,
   "metadata": {},
   "outputs": [
    {
     "name": "stdout",
     "output_type": "stream",
     "text": [
      "num_players: 574\n"
     ]
    }
   ],
   "source": [
    "num_players = len(player_detail_active_json)\n",
    "\n",
    "print(\"num_players:\", num_players)"
   ]
  },
  {
   "cell_type": "code",
   "execution_count": 4,
   "metadata": {},
   "outputs": [
    {
     "data": {
      "text/plain": [
       "dict_keys(['PlayerID', 'SportsDataID', 'Status', 'TeamID', 'Team', 'Jersey', 'PositionCategory', 'Position', 'FirstName', 'LastName', 'Height', 'Weight', 'BirthDate', 'BirthCity', 'BirthState', 'BirthCountry', 'HighSchool', 'College', 'Salary', 'PhotoUrl', 'Experience', 'SportRadarPlayerID', 'RotoworldPlayerID', 'RotoWirePlayerID', 'FantasyAlarmPlayerID', 'StatsPlayerID', 'SportsDirectPlayerID', 'XmlTeamPlayerID', 'InjuryStatus', 'InjuryBodyPart', 'InjuryStartDate', 'InjuryNotes', 'FanDuelPlayerID', 'DraftKingsPlayerID', 'YahooPlayerID', 'FanDuelName', 'DraftKingsName', 'YahooName', 'DepthChartPosition', 'DepthChartOrder', 'GlobalTeamID', 'FantasyDraftName', 'FantasyDraftPlayerID', 'UsaTodayPlayerID', 'UsaTodayHeadshotUrl', 'UsaTodayHeadshotNoBackgroundUrl', 'UsaTodayHeadshotUpdated', 'UsaTodayHeadshotNoBackgroundUpdated', 'NbaDotComPlayerID'])"
      ]
     },
     "execution_count": 4,
     "metadata": {},
     "output_type": "execute_result"
    }
   ],
   "source": [
    "player_detail_active_json[0].keys()"
   ]
  },
  {
   "cell_type": "code",
   "execution_count": 5,
   "metadata": {},
   "outputs": [],
   "source": [
    "test_player_id = player_detail_active_json[0]['PlayerID']\n",
    "\n",
    "Player_Details_by_Player = f'https://api.sportsdata.io/v3/nba/scores/json/Player/{test_player_id}'\n",
    "\n",
    "\n",
    "response = requests.get(url=Player_Details_by_Player, headers=headers)\n",
    "\n",
    "player_detail_player_json = json.loads(response.text)"
   ]
  },
  {
   "cell_type": "code",
   "execution_count": 6,
   "metadata": {},
   "outputs": [
    {
     "data": {
      "text/plain": [
       "(49, 49)"
      ]
     },
     "execution_count": 6,
     "metadata": {},
     "output_type": "execute_result"
    }
   ],
   "source": [
    "len(player_detail_player_json.keys()), len(player_detail_active_json[0].keys())"
   ]
  },
  {
   "cell_type": "code",
   "execution_count": 7,
   "metadata": {},
   "outputs": [
    {
     "data": {
      "text/plain": [
       "{'PlayerID': 20000441,\n",
       " 'SportsDataID': '',\n",
       " 'Status': 'Active',\n",
       " 'TeamID': 1,\n",
       " 'Team': 'WAS',\n",
       " 'Jersey': 3,\n",
       " 'PositionCategory': 'G',\n",
       " 'Position': 'SG',\n",
       " 'FirstName': 'Bradley',\n",
       " 'LastName': 'Beal',\n",
       " 'Height': 75,\n",
       " 'Weight': 207,\n",
       " 'BirthDate': '1993-06-28T00:00:00',\n",
       " 'BirthCity': 'St. Louis',\n",
       " 'BirthState': 'MI',\n",
       " 'BirthCountry': 'USA',\n",
       " 'HighSchool': None,\n",
       " 'College': 'Florida',\n",
       " 'Salary': 28751775,\n",
       " 'PhotoUrl': 'https://s3-us-west-2.amazonaws.com/static.fantasydata.com/headshots/nba/low-res/20000441.png',\n",
       " 'Experience': 7,\n",
       " 'SportRadarPlayerID': 'ff461754-ad20-4eeb-af02-2b46cc980b24',\n",
       " 'RotoworldPlayerID': 1966,\n",
       " 'RotoWirePlayerID': 3303,\n",
       " 'FantasyAlarmPlayerID': 200464,\n",
       " 'StatsPlayerID': 606912,\n",
       " 'SportsDirectPlayerID': 750970,\n",
       " 'XmlTeamPlayerID': 3395,\n",
       " 'InjuryStatus': 'Scrambled',\n",
       " 'InjuryBodyPart': 'Scrambled',\n",
       " 'InjuryStartDate': None,\n",
       " 'InjuryNotes': 'Scrambled',\n",
       " 'FanDuelPlayerID': 15595,\n",
       " 'DraftKingsPlayerID': 606912,\n",
       " 'YahooPlayerID': 5009,\n",
       " 'FanDuelName': 'Brad Beal',\n",
       " 'DraftKingsName': 'Bradley Beal',\n",
       " 'YahooName': 'Bradley Beal',\n",
       " 'DepthChartPosition': 'SG',\n",
       " 'DepthChartOrder': 1,\n",
       " 'GlobalTeamID': 20000001,\n",
       " 'FantasyDraftName': 'Bradley Beal',\n",
       " 'FantasyDraftPlayerID': 606912,\n",
       " 'UsaTodayPlayerID': 7403780,\n",
       " 'UsaTodayHeadshotUrl': 'http://cdn.usatsimg.com/api/download/?imageID=13477385',\n",
       " 'UsaTodayHeadshotNoBackgroundUrl': 'http://cdn.usatsimg.com/api/download/?imageID=13514963',\n",
       " 'UsaTodayHeadshotUpdated': '2019-10-09T17:16:12',\n",
       " 'UsaTodayHeadshotNoBackgroundUpdated': '2019-10-14T10:03:12',\n",
       " 'NbaDotComPlayerID': 203078}"
      ]
     },
     "execution_count": 7,
     "metadata": {},
     "output_type": "execute_result"
    }
   ],
   "source": [
    "player_detail_player_json"
   ]
  },
  {
   "cell_type": "code",
   "execution_count": 8,
   "metadata": {
    "scrolled": true
   },
   "outputs": [],
   "source": [
    "season=2020\n",
    "\n",
    "url = f\"https://api.sportsdata.io/v3/nba/stats/json/PlayerSeasonStats/{season}\"\n",
    "\n",
    "\n",
    "response = requests.get(url=url, headers=headers)\n",
    "\n",
    "all_stats = json.loads(response.text)"
   ]
  },
  {
   "cell_type": "code",
   "execution_count": 9,
   "metadata": {},
   "outputs": [
    {
     "data": {
      "text/plain": [
       "{'StatID': 709412,\n",
       " 'TeamID': 1,\n",
       " 'PlayerID': 20000441,\n",
       " 'SeasonType': 1,\n",
       " 'Season': 2020,\n",
       " 'Name': 'Bradley Beal',\n",
       " 'Team': 'WAS',\n",
       " 'Position': 'SG',\n",
       " 'Started': 57,\n",
       " 'GlobalTeamID': 20000001,\n",
       " 'Updated': '2020-10-31T22:19:28',\n",
       " 'Games': 57,\n",
       " 'FantasyPoints': 2596.8,\n",
       " 'Minutes': 2094,\n",
       " 'Seconds': 10,\n",
       " 'FieldGoalsMade': 604.9,\n",
       " 'FieldGoalsAttempted': 1329.1,\n",
       " 'FieldGoalsPercentage': 46.4,\n",
       " 'EffectiveFieldGoalsPercentage': 53.0,\n",
       " 'TwoPointersMade': 431.5,\n",
       " 'TwoPointersAttempted': 838.4,\n",
       " 'TwoPointersPercentage': 52.5,\n",
       " 'ThreePointersMade': 173.4,\n",
       " 'ThreePointersAttempted': 490.6,\n",
       " 'ThreePointersPercentage': 36.0,\n",
       " 'FreeThrowsMade': 392.7,\n",
       " 'FreeThrowsAttempted': 466.1,\n",
       " 'FreeThrowsPercentage': 85.9,\n",
       " 'OffensiveRebounds': 53.0,\n",
       " 'DefensiveRebounds': 193.8,\n",
       " 'Rebounds': 246.8,\n",
       " 'OffensiveReboundsPercentage': 2.8,\n",
       " 'DefensiveReboundsPercentage': 10.7,\n",
       " 'TotalReboundsPercentage': 6.7,\n",
       " 'Assists': 353.9,\n",
       " 'Steals': 72.4,\n",
       " 'BlockedShots': 23.5,\n",
       " 'Turnovers': 197.9,\n",
       " 'PersonalFouls': 128.5,\n",
       " 'Points': 1775.8,\n",
       " 'TrueShootingAttempts': 1534.2,\n",
       " 'TrueShootingPercentage': 59.1,\n",
       " 'PlayerEfficiencyRating': 28.5,\n",
       " 'AssistsPercentage': 30.1,\n",
       " 'StealsPercentage': 1.7,\n",
       " 'BlocksPercentage': 1.0,\n",
       " 'TurnOversPercentage': 11.6,\n",
       " 'UsageRatePercentage': 35.3,\n",
       " 'FantasyPointsFanDuel': 2692.7,\n",
       " 'FantasyPointsDraftKings': 2807.0,\n",
       " 'FantasyPointsYahoo': 2692.7,\n",
       " 'PlusMinus': -205.0,\n",
       " 'DoubleDoubles': 8.3,\n",
       " 'TripleDoubles': 0.0,\n",
       " 'FantasyPointsFantasyDraft': 2807.0,\n",
       " 'IsClosed': False,\n",
       " 'LineupConfirmed': None,\n",
       " 'LineupStatus': 'Scrambled'}"
      ]
     },
     "execution_count": 9,
     "metadata": {},
     "output_type": "execute_result"
    }
   ],
   "source": [
    "all_stats[1]"
   ]
  },
  {
   "cell_type": "code",
   "execution_count": 10,
   "metadata": {},
   "outputs": [],
   "source": [
    "season_data = {}\n",
    "\n",
    "for i in range(10):\n",
    "    year = 2020-i\n",
    "    url = f\"https://api.sportsdata.io/v3/nba/stats/json/PlayerSeasonStats/{season}\"\n",
    "    response = requests.get(url=url, headers=headers)\n",
    "    season_data[year] = json.loads(response.text)"
   ]
  },
  {
   "cell_type": "code",
   "execution_count": 17,
   "metadata": {},
   "outputs": [],
   "source": [
    "# saving column_headers:\n",
    "col_headers_arr = [i for i in season_data[2020][0].keys()]\n",
    "\n",
    "import csv\n",
    "\n",
    "with open('data/season_meta_data.csv', 'w') as f:\n",
    "    wr = csv.writer(f)\n",
    "    wr.writerow(col_headers_arr)\n",
    "\n"
   ]
  },
  {
   "cell_type": "code",
   "execution_count": 20,
   "metadata": {},
   "outputs": [
    {
     "name": "stdout",
     "output_type": "stream",
     "text": [
      "551 58\n",
      "551 58\n",
      "551 58\n",
      "551 58\n",
      "551 58\n",
      "551 58\n",
      "551 58\n",
      "551 58\n",
      "551 58\n",
      "551 58\n"
     ]
    }
   ],
   "source": [
    "for season in season_data:\n",
    "    csv_arr = [col_headers_arr]\n",
    "\n",
    "    with open(f'data/season{season}.csv', 'w') as f:\n",
    "        wr = csv.writer(f)\n",
    "        wr.writerow(col_headers_arr)\n",
    "        for player in season_data[season]:\n",
    "            row = []\n",
    "            for stat in player:\n",
    "                row.append(player[stat])\n",
    "            wr.writerow(row)\n",
    "\n",
    "        "
   ]
  },
  {
   "cell_type": "code",
   "execution_count": null,
   "metadata": {},
   "outputs": [],
   "source": []
  },
  {
   "cell_type": "code",
   "execution_count": null,
   "metadata": {},
   "outputs": [],
   "source": []
  },
  {
   "cell_type": "code",
   "execution_count": null,
   "metadata": {},
   "outputs": [],
   "source": []
  },
  {
   "cell_type": "code",
   "execution_count": null,
   "metadata": {},
   "outputs": [],
   "source": []
  },
  {
   "cell_type": "code",
   "execution_count": null,
   "metadata": {},
   "outputs": [],
   "source": []
  },
  {
   "cell_type": "code",
   "execution_count": null,
   "metadata": {},
   "outputs": [],
   "source": []
  },
  {
   "cell_type": "code",
   "execution_count": null,
   "metadata": {},
   "outputs": [],
   "source": []
  },
  {
   "cell_type": "code",
   "execution_count": null,
   "metadata": {},
   "outputs": [],
   "source": []
  },
  {
   "cell_type": "code",
   "execution_count": null,
   "metadata": {},
   "outputs": [],
   "source": []
  },
  {
   "cell_type": "code",
   "execution_count": null,
   "metadata": {},
   "outputs": [],
   "source": []
  },
  {
   "cell_type": "code",
   "execution_count": null,
   "metadata": {},
   "outputs": [],
   "source": []
  },
  {
   "cell_type": "code",
   "execution_count": null,
   "metadata": {},
   "outputs": [],
   "source": []
  }
 ],
 "metadata": {
  "kernelspec": {
   "display_name": "Python 3",
   "language": "python",
   "name": "python3"
  },
  "language_info": {
   "codemirror_mode": {
    "name": "ipython",
    "version": 3
   },
   "file_extension": ".py",
   "mimetype": "text/x-python",
   "name": "python",
   "nbconvert_exporter": "python",
   "pygments_lexer": "ipython3",
   "version": "3.8.1"
  }
 },
 "nbformat": 4,
 "nbformat_minor": 4
}
